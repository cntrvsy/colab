{
  "nbformat": 4,
  "nbformat_minor": 0,
  "metadata": {
    "colab": {
      "provenance": [],
      "authorship_tag": "ABX9TyNiRLEctIHKRzAWAFvGkd7V",
      "include_colab_link": true
    },
    "kernelspec": {
      "name": "python3",
      "display_name": "Python 3"
    },
    "language_info": {
      "name": "python"
    }
  },
  "cells": [
    {
      "cell_type": "markdown",
      "metadata": {
        "id": "view-in-github",
        "colab_type": "text"
      },
      "source": [
        "<a href=\"https://colab.research.google.com/github/cntrvsy/colab/blob/main/st20343345_CMP7005_PRAC1.ipynb\" target=\"_parent\"><img src=\"https://colab.research.google.com/assets/colab-badge.svg\" alt=\"Open In Colab\"/></a>"
      ]
    },
    {
      "cell_type": "markdown",
      "source": [
        "# INTRODUCITON\n",
        "lets start by loading in our data\n",
        "1. Ahmedabad_data.csv\n",
        "2. Aizawl_data.csv\n",
        "3. Amaravati_data.csv\n",
        "4. Amritsar_data.csv\n",
        "5. Bengaluru_data.csv\n",
        "6. Bhopal_data.csv\n",
        "7. Brajrajnagar_data.csv\n",
        "8. Chandigarh_data.csv\n",
        "9. Chennai_data.csv\n",
        "10. Coimbatore_data.csv\n",
        "11. Delhi_data.csv\n",
        "12. Ernakulam_data.csv\n",
        "13. Gurugram_data.csv\n",
        "14. Guwahati_data.csv\n",
        "15. Hyderabad_data.csv\n",
        "16. Jaipur_data.csv\n",
        "17. Jorapokhar_data.csv\n",
        "18. Kochi_data.csv\n",
        "19. Kolkata_data.csv\n",
        "20. Lucknow_data.csv\n",
        "21. Mumbai_data.csv\n",
        "22. Patna_data.csv\n",
        "23. Shillong_data.csv\n",
        "24. Talcher_data.csv\n",
        "25. Thiruvananthapuram_data.csv\n",
        "26. Visakhapatnam_data.csv\n",
        "\n"
      ],
      "metadata": {
        "id": "VX75xRUG4USt"
      }
    },
    {
      "cell_type": "code",
      "metadata": {
        "id": "b73fb744"
      },
      "source": [
        "import pandas as pd\n",
        "\n",
        "url_1 = 'https://raw.githubusercontent.com/cntrvsy/colab/main/Ahmedabad_data.csv'\n",
        "Ahmedabad_df = pd.read_csv(url_1, header=0)\n",
        "url_2 = 'https://raw.githubusercontent.com/cntrvsy/colab/main/Aizawl_data.csv'\n",
        "Aizawl_df = pd.read_csv(url_2, header=0)\n",
        "url_3 = 'https://raw.githubusercontent.com/cntrvsy/colab/main/Amaravati_data.csv'\n",
        "Amaravati_df = pd.read_csv(url_3, header=0)\n",
        "url_4 = 'https://raw.githubusercontent.com/cntrvsy/colab/main/Amritsar_data.csv'\n",
        "Amritsar_df = pd.read_csv(url_4)\n",
        "url_5 = 'https://raw.githubusercontent.com/cntrvsy/colab/main/Bengaluru_data.csv'\n",
        "Bengaluru_df = pd.read_csv(url_5)\n",
        "url_6 = 'https://raw.githubusercontent.com/cntrvsy/colab/main/Bhopal_data.csv'\n",
        "Bhopal_df = pd.read_csv(url_6)\n",
        "url_7 = 'https://raw.githubusercontent.com/cntrvsy/colab/main/Brajrajnagar_data.csv'\n",
        "Brajrajnagar_df = pd.read_csv(url_7)\n",
        "url_8 = 'https://raw.githubusercontent.com/cntrvsy/colab/main/Chandigarh_data.csv'\n",
        "Chandigarh_df = pd.read_csv(url_8)\n",
        "url_9 = 'https://raw.githubusercontent.com/cntrvsy/colab/main/Chennai_data.csv'\n",
        "Chennai_df = pd.read_csv(url_9)\n",
        "url_10 = 'https://raw.githubusercontent.com/cntrvsy/colab/main/Coimbatore_data.csv'\n",
        "Coimbatore_df = pd.read_csv(url_10)\n",
        "url_11 = 'https://raw.githubusercontent.com/cntrvsy/colab/main/Delhi_data.csv'\n",
        "Delhi_df = pd.read_csv(url_11)\n",
        "url_12 = 'https://raw.githubusercontent.com/cntrvsy/colab/main/Ernakulam_data.csv'\n",
        "Ernakulam_df = pd.read_csv(url_12)\n",
        "url_13 = 'https://raw.githubusercontent.com/cntrvsy/colab/main/Gurugram_data.csv'\n",
        "Gurugram_df = pd.read_csv(url_13)\n",
        "url_14 = 'https://raw.githubusercontent.com/cntrvsy/colab/main/Guwahati_data.csv'\n",
        "Guwahati_df = pd.read_csv(url_14)\n",
        "url_15 = 'https://raw.githubusercontent.com/cntrvsy/colab/main/Hyderabad_data.csv'\n",
        "Hyderabad_df = pd.read_csv(url_15)\n",
        "url_16 = 'https://raw.githubusercontent.com/cntrvsy/colab/main/Jaipur_data.csv'\n",
        "Jaipur_df = pd.read_csv(url_16)\n",
        "url_17 = 'https://raw.githubusercontent.com/cntrvsy/colab/main/Jorapokhar_data.csv'\n",
        "Jorapokhar_df = pd.read_csv(url_17)\n",
        "url_18 = 'https://raw.githubusercontent.com/cntrvsy/colab/main/Kochi_data.csv'\n",
        "Kochi_df = pd.read_csv(url_18)\n",
        "url_19 = 'https://raw.githubusercontent.com/cntrvsy/colab/main/Kolkata_data.csv'\n",
        "Kolkata_df = pd.read_csv(url_19)\n",
        "url_20 = 'https://raw.githubusercontent.com/cntrvsy/colab/main/Lucknow_data.csv'\n",
        "Lucknow_df = pd.read_csv(url_20)\n",
        "url_21 = 'https://raw.githubusercontent.com/cntrvsy/colab/main/Mumbai_data.csv'\n",
        "Mumbai_df = pd.read_csv(url_21)\n",
        "url_22 = 'https://raw.githubusercontent.com/cntrvsy/colab/main/Patna_data.csv'\n",
        "Patna_df = pd.read_csv(url_22)\n",
        "url_23 = 'https://raw.githubusercontent.com/cntrvsy/colab/main/Shillong_data.csv'\n",
        "Shillong_df = pd.read_csv(url_23)\n",
        "url_24 = 'https://raw.githubusercontent.com/cntrvsy/colab/main/Talcher_data.csv'\n",
        "Talcher_df = pd.read_csv(url_24)\n",
        "url_25 = 'https://raw.githubusercontent.com/cntrvsy/colab/main/Thiruvananthapuram_data.csv'\n",
        "Thiruvananthapuram_df = pd.read_csv(url_25)\n",
        "url_26 = 'https://raw.githubusercontent.com/cntrvsy/colab/main/Visakhapatnam_data.csv'\n",
        "Visakhapatnam_df = pd.read_csv(url_26)\n",
        "\n",
        "#display(Ahmedabad_df.head(1))\n",
        "#display(Aizawl_df.head(1))\n",
        "#display(Amaravati_df.head(1))\n",
        "#display(Amritsar_df.head(1))\n",
        "#display(Bengaluru_df.head(1))\n",
        "#display(Bhopal_df.head(1))\n",
        "#display(Brajrajnagar_df.head(1))\n",
        "#display(Chandigarh_df.head(1))\n",
        "#display(Chennai_df.head(1))\n",
        "#display(Coimbatore_df.head(1))\n",
        "#display(Delhi_df.head(1))\n",
        "#display(Ernakulam_df.head(1))\n",
        "#display(Gurugram_df.head(1))\n",
        "#display(Guwahati_df.head(1))\n",
        "#display(Hyderabad_df.head(1))\n",
        "#display(Jaipur_df.head(1))\n",
        "#display(Jorapokhar_df.head(1))\n",
        "#display(Kochi_df.head(1))\n",
        "#display(Kolkata_df.head(1))\n",
        "#display(Lucknow_df.head(1))\n",
        "#display(Mumbai_df.head(1))\n",
        "#display(Patna_df.head(1))\n",
        "#display(Shillong_df.head(1))\n",
        "#display(Talcher_df.head(1))\n",
        "#display(Thiruvananthapuram_df.head(1))\n",
        "#display(Visakhapatnam_df.head(1))"
      ],
      "execution_count": 4,
      "outputs": []
    }
  ]
}